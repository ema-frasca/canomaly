{
 "cells": [
  {
   "cell_type": "code",
   "execution_count": 89,
   "metadata": {
    "collapsed": true
   },
   "outputs": [],
   "source": [
    "import os\n",
    "from glob import glob\n",
    "from ast import literal_eval\n",
    "\n",
    "import numpy as np\n",
    "import pandas as pd\n",
    "import matplotlib.pyplot as plt\n",
    "import seaborn as sns\n",
    "\n",
    "from IPython.core.display import display, HTML\n",
    "\n",
    "from sklearn.metrics import roc_auc_score"
   ]
  },
  {
   "cell_type": "code",
   "execution_count": 90,
   "metadata": {
    "pycharm": {
     "name": "#%%\n"
    }
   },
   "outputs": [
    {
     "data": {
      "text/plain": "<IPython.core.display.HTML object>",
      "text/html": "<style>#notebook { padding-top:0px; } .container { width:100%; } .end_space { min-height:0px; } </style>"
     },
     "metadata": {},
     "output_type": "display_data"
    }
   ],
   "source": [
    "\n",
    "pd.set_option('display.max_rows', 5000)\n",
    "pd.set_option('display.max_columns', 500)\n",
    "pd.set_option('display.width', 1000)\n",
    "\n",
    "plt.style.use('dark_background')\n",
    "\n",
    "display(HTML(\"<style>\"\n",
    "    + \"#notebook { padding-top:0px; } \" \"\"\n",
    "    + \".container { width:100%; } \"\n",
    "    + \".end_space { min-height:0px; } \"\n",
    "    + \"</style>\"))"
   ]
  },
  {
   "cell_type": "code",
   "execution_count": 91,
   "metadata": {
    "pycharm": {
     "name": "#%%\n"
    }
   },
   "outputs": [],
   "source": [
    "logs_path = 'C:\\\\Users\\\\emace\\\\AImageLab\\\\SRV-Continual\\\\results\\\\canomaly\\\\logs'"
   ]
  },
  {
   "cell_type": "code",
   "execution_count": 92,
   "metadata": {
    "pycharm": {
     "name": "#%%\n"
    }
   },
   "outputs": [],
   "source": [
    "for environment in glob(logs_path + '/**/*.pyd', recursive=True):\n",
    "    with open(environment, 'r') as f:\n",
    "        experiments = [literal_eval(line) for line in f.readlines()]"
   ]
  },
  {
   "cell_type": "code",
   "execution_count": 93,
   "outputs": [],
   "source": [
    "def print_exp_info(exp: dict):\n",
    "    print({k: exp[k] for k in exp if k not in ['logs', 'results', 'knowledge']})"
   ],
   "metadata": {
    "collapsed": false,
    "pycharm": {
     "name": "#%%\n"
    }
   }
  },
  {
   "cell_type": "code",
   "execution_count": 94,
   "metadata": {
    "pycharm": {
     "name": "#%%\n"
    },
    "scrolled": false
   },
   "outputs": [],
   "source": [
    "# usage example:  show_exp_images(experiments[0], True)\n",
    "def show_exp_images(exp: dict, show_origins=False):\n",
    "    for task in exp['results']:\n",
    "        cur_images = exp['results'][task]['images']\n",
    "        fig, axs = plt.subplots(2, 5, figsize=(15, 8))\n",
    "        fig.suptitle(f'TASK {task}', fontsize=30)\n",
    "        for r, row in enumerate(axs):\n",
    "            for c, cell in enumerate(row):\n",
    "                idx = r*5 + c\n",
    "                image = np.zeros((28, 28, 3), dtype=float)\n",
    "                cell.set_title(cur_images[idx]['label'])\n",
    "                orig = np.array(cur_images[idx]['original'][0])\n",
    "                recon = np.array(cur_images[idx]['reconstruction'][0]).clip(0, 1)\n",
    "                if show_origins:\n",
    "                    image[:,:,1] = orig\n",
    "                image[:,:,0] = recon\n",
    "                image[:,:,2] = recon\n",
    "                cell.imshow(image)\n",
    "        plt.show()"
   ]
  },
  {
   "cell_type": "code",
   "execution_count": 95,
   "outputs": [],
   "source": [
    "def compute_weighted_auc(anomalies: np.array, scores: np.array):\n",
    "    n_anomalies = anomalies.sum().item()\n",
    "    n_normals = len(anomalies) - n_anomalies\n",
    "    weights = np.zeros_like(scores)\n",
    "    weights[anomalies == 0] = n_anomalies/len(anomalies)\n",
    "    weights[anomalies == 1] = n_normals/len(anomalies)\n",
    "    return roc_auc_score(anomalies, scores, sample_weight=weights)\n",
    "\n",
    "\n",
    "def compute_all_aucs(anomalies, scores):\n",
    "    total_auc = roc_auc_score(anomalies, scores)\n",
    "\n",
    "    n_anomalies = anomalies.sum().item()\n",
    "    n_normals = len(anomalies) - n_anomalies\n",
    "    weighted_auc = compute_weighted_auc(anomalies, scores)\n",
    "\n",
    "    min_label = 1 if n_anomalies < n_normals else 0\n",
    "    max_label = 1 - min_label\n",
    "    n_per_class = n_anomalies if n_anomalies < n_normals else n_normals\n",
    "    idxs_norm = np.where(anomalies==min_label)[0]\n",
    "    idxs_anom = np.random.choice(np.where(anomalies==max_label)[0], size=n_per_class, replace=False)\n",
    "    idxs = np.concatenate((idxs_norm, idxs_anom))\n",
    "    balanced_auc = roc_auc_score(anomalies[idxs], scores[idxs])\n",
    "\n",
    "    return total_auc, weighted_auc, balanced_auc"
   ],
   "metadata": {
    "collapsed": false,
    "pycharm": {
     "name": "#%%\n"
    }
   }
  },
  {
   "cell_type": "code",
   "execution_count": 147,
   "outputs": [],
   "source": [
    "def compute_exp_metrics(exp: dict, per_task=True):\n",
    "    knowledge = []\n",
    "    metrics = pd.DataFrame(index=exp['results'], columns=[str(labels) for labels in exp['knowledge'].values()] + ['total'], dtype='float')\n",
    "    for t, task in enumerate(exp['results']):\n",
    "        knowledge.extend(exp['knowledge'][task])\n",
    "        targets = np.array(exp['results'][task]['targets'])\n",
    "        scores = np.array(exp['results'][task]['rec_errs'])\n",
    "        anomalies = (~np.isin(targets, knowledge)).astype(int)\n",
    "        auc = compute_weighted_auc(anomalies, scores)\n",
    "        metrics.loc[task, 'total'] = auc\n",
    "        # print(f'task {task}: {auc}')\n",
    "\n",
    "        if t > 0 and per_task:\n",
    "            for in_t, in_task in zip(range(t+1), exp['results']):\n",
    "                np_knowledge = np.array(knowledge)\n",
    "                excluded_labels = np_knowledge[~np.isin(np_knowledge, exp['knowledge'][in_task])].tolist()\n",
    "                mask = ~np.isin(targets, excluded_labels)\n",
    "                in_targets = targets[mask]\n",
    "                in_scores = scores[mask]\n",
    "                in_anomalies = (~np.isin(in_targets, knowledge)).astype(int)\n",
    "                in_auc = compute_weighted_auc(in_anomalies, in_scores)\n",
    "                metrics.loc[task, str(exp['knowledge'][in_task])] = in_auc\n",
    "                # print(f'  t{in_task} vs all: {in_auc}')\n",
    "        else:\n",
    "            metrics.loc[task, str(exp['knowledge'][task])] = auc\n",
    "\n",
    "    final_auc = metrics.loc[task, 'total']\n",
    "    average_auc = metrics.loc[:, \"total\"].mean()\n",
    "    # print(f'final {final_auc} average {average_auc}')\n",
    "    return final_auc, average_auc, metrics\n",
    "\n",
    "def show_aucs_per_task(task_aucs: pd.DataFrame):\n",
    "    fig, ax = plt.subplots(1, 1, figsize=(10, 10))\n",
    "    sns.heatmap(task_aucs, annot=True, ax=ax, cmap='Reds', cbar=False)\n",
    "    plt.ylabel('Task')\n",
    "    plt.xlabel('Class')\n",
    "    plt.title('Auc per task and class')\n"
   ],
   "metadata": {
    "collapsed": false,
    "pycharm": {
     "name": "#%%\n"
    }
   }
  },
  {
   "cell_type": "code",
   "execution_count": 117,
   "outputs": [],
   "source": [
    "def reconstruction_confusion_matrix(exp: dict):\n",
    "    matrix = pd.DataFrame(index=exp['results'], columns=[str(x) for x in exp['knowledge'].values()], dtype='float')\n",
    "\n",
    "    for task in exp['results']:\n",
    "        scores = np.array(exp['results'][task]['rec_errs'])\n",
    "        targets = np.array(exp['results'][task]['targets'])\n",
    "        for targ in exp['knowledge']:\n",
    "            matrix.loc[task, str(exp['knowledge'][targ])] = scores[np.isin(targets, exp['knowledge'][targ])].mean()\n",
    "\n",
    "    return matrix\n",
    "\n",
    "def show_conf_matrix(cmatrix: pd.DataFrame):\n",
    "    fig,ax = plt.subplots(figsize=(10,10))\n",
    "    sns.heatmap(data=cmatrix, ax=ax,annot=True, cbar=False, cmap='Reds')\n",
    "    plt.ylabel('Task')\n",
    "    plt.xlabel('Class')\n",
    "    plt.title('Reconstruction error per task and class')"
   ],
   "metadata": {
    "collapsed": false,
    "pycharm": {
     "name": "#%%\n"
    }
   }
  },
  {
   "cell_type": "code",
   "execution_count": 148,
   "outputs": [
    {
     "name": "stdout",
     "output_type": "stream",
     "text": [
      "{'seed': 2582786278, 'dataset': 'can-mnist', 'model': 'ae', 'optim': 'SGD', 'lr': 0.1, 'joint': False, 'batch_size': 16, 'n_epochs': 1, 'latent_space': 32, 'classes_per_task': 1, 'id': 'c93168de-e96f-4054-828f-c0bbb57b93f6', 'timestamp': '2022-01-26 15:20:08.663516'}\n",
      "final 0.4215393678008238 average 0.642691277194256\n"
     ]
    },
    {
     "data": {
      "text/plain": "<Figure size 720x720 with 1 Axes>",
      "image/png": "[encoded data removed]"
     },
     "metadata": {},
     "output_type": "display_data"
    }
   ],
   "source": [
    "## print metrics of experiments\n",
    "\n",
    "exp = experiments[0]\n",
    "\n",
    "print_exp_info(exp)\n",
    "\n",
    "# show_exp_images(exp, False)\n",
    "\n",
    "final_auc, average_auc, task_aucs =  compute_exp_metrics(exp)\n",
    "print(f'final {final_auc} average {average_auc}')\n",
    "show_aucs_per_task(task_aucs)\n",
    "\n",
    "cmatrix = reconstruction_confusion_matrix(exp)\n",
    "# show_conf_matrix(cmatrix)\n"
   ],
   "metadata": {
    "collapsed": false,
    "pycharm": {
     "name": "#%%\n"
    }
   }
  },
  {
   "cell_type": "code",
   "execution_count": 128,
   "outputs": [
    {
     "data": {
      "text/plain": "        [0]       [1]       [2]       [3]       [4]       [5]       [6]       [7]       [8]     total\n0  0.927193       NaN       NaN       NaN       NaN       NaN       NaN       NaN       NaN  0.927193\n1  0.354900  0.997547       NaN       NaN       NaN       NaN       NaN       NaN       NaN  0.699772\n2  0.472903  0.994955  0.873892       NaN       NaN       NaN       NaN       NaN       NaN  0.792683\n3  0.265787  0.981856  0.571136  0.883174       NaN       NaN       NaN       NaN       NaN  0.687105\n4  0.184990  0.964371  0.290385  0.394244  0.887986       NaN       NaN       NaN       NaN  0.553749\n5  0.232182  0.945211  0.285398  0.558301  0.590751  0.837879       NaN       NaN       NaN  0.578059\n6  0.379133  0.987292  0.356803  0.413080  0.688482  0.592551  0.950969       NaN       NaN  0.628592\n7  0.157198  0.924661  0.253264  0.319134  0.624273  0.341928  0.332296  0.923190       NaN  0.495529\n8  0.110313  0.909266  0.162484  0.349502  0.399294  0.386639  0.241073  0.544022  0.618136  0.421539",
      "text/html": "<div>\n<style scoped>\n    .dataframe tbody tr th:only-of-type {\n        vertical-align: middle;\n    }\n\n    .dataframe tbody tr th {\n        vertical-align: top;\n    }\n\n    .dataframe thead th {\n        text-align: right;\n    }\n</style>\n<table border=\"1\" class=\"dataframe\">\n  <thead>\n    <tr style=\"text-align: right;\">\n      <th></th>\n      <th>[0]</th>\n      <th>[1]</th>\n      <th>[2]</th>\n      <th>[3]</th>\n      <th>[4]</th>\n      <th>[5]</th>\n      <th>[6]</th>\n      <th>[7]</th>\n      <th>[8]</th>\n      <th>total</th>\n    </tr>\n  </thead>\n  <tbody>\n    <tr>\n      <th>0</th>\n      <td>0.927193</td>\n      <td>NaN</td>\n      <td>NaN</td>\n      <td>NaN</td>\n      <td>NaN</td>\n      <td>NaN</td>\n      <td>NaN</td>\n      <td>NaN</td>\n      <td>NaN</td>\n      <td>0.927193</td>\n    </tr>\n    <tr>\n      <th>1</th>\n      <td>0.354900</td>\n      <td>0.997547</td>\n      <td>NaN</td>\n      <td>NaN</td>\n      <td>NaN</td>\n      <td>NaN</td>\n      <td>NaN</td>\n      <td>NaN</td>\n      <td>NaN</td>\n      <td>0.699772</td>\n    </tr>\n    <tr>\n      <th>2</th>\n      <td>0.472903</td>\n      <td>0.994955</td>\n      <td>0.873892</td>\n      <td>NaN</td>\n      <td>NaN</td>\n      <td>NaN</td>\n      <td>NaN</td>\n      <td>NaN</td>\n      <td>NaN</td>\n      <td>0.792683</td>\n    </tr>\n    <tr>\n      <th>3</th>\n      <td>0.265787</td>\n      <td>0.981856</td>\n      <td>0.571136</td>\n      <td>0.883174</td>\n      <td>NaN</td>\n      <td>NaN</td>\n      <td>NaN</td>\n      <td>NaN</td>\n      <td>NaN</td>\n      <td>0.687105</td>\n    </tr>\n    <tr>\n      <th>4</th>\n      <td>0.184990</td>\n      <td>0.964371</td>\n      <td>0.290385</td>\n      <td>0.394244</td>\n      <td>0.887986</td>\n      <td>NaN</td>\n      <td>NaN</td>\n      <td>NaN</td>\n      <td>NaN</td>\n      <td>0.553749</td>\n    </tr>\n    <tr>\n      <th>5</th>\n      <td>0.232182</td>\n      <td>0.945211</td>\n      <td>0.285398</td>\n      <td>0.558301</td>\n      <td>0.590751</td>\n      <td>0.837879</td>\n      <td>NaN</td>\n      <td>NaN</td>\n      <td>NaN</td>\n      <td>0.578059</td>\n    </tr>\n    <tr>\n      <th>6</th>\n      <td>0.379133</td>\n      <td>0.987292</td>\n      <td>0.356803</td>\n      <td>0.413080</td>\n      <td>0.688482</td>\n      <td>0.592551</td>\n      <td>0.950969</td>\n      <td>NaN</td>\n      <td>NaN</td>\n      <td>0.628592</td>\n    </tr>\n    <tr>\n      <th>7</th>\n      <td>0.157198</td>\n      <td>0.924661</td>\n      <td>0.253264</td>\n      <td>0.319134</td>\n      <td>0.624273</td>\n      <td>0.341928</td>\n      <td>0.332296</td>\n      <td>0.923190</td>\n      <td>NaN</td>\n      <td>0.495529</td>\n    </tr>\n    <tr>\n      <th>8</th>\n      <td>0.110313</td>\n      <td>0.909266</td>\n      <td>0.162484</td>\n      <td>0.349502</td>\n      <td>0.399294</td>\n      <td>0.386639</td>\n      <td>0.241073</td>\n      <td>0.544022</td>\n      <td>0.618136</td>\n      <td>0.421539</td>\n    </tr>\n  </tbody>\n</table>\n</div>"
     },
     "execution_count": 128,
     "metadata": {},
     "output_type": "execute_result"
    }
   ],
   "source": [
    "task_aucs.to_dict(orient='index')\n",
    "pd.DataFrame.from_dict(task_aucs.to_dict(orient='index'), orient='index')"
   ],
   "metadata": {
    "collapsed": false,
    "pycharm": {
     "name": "#%%\n"
    }
   }
  },
  {
   "cell_type": "code",
   "execution_count": 135,
   "outputs": [
    {
     "name": "stdout",
     "output_type": "stream",
     "text": [
      "Namespace(pippo='ciao')\n",
      "log -> {'pippo': 'ciao'}\n",
      "Namespace(pippo='ciao', pluto='no')\n"
     ]
    }
   ],
   "source": [
    "from argparse import ArgumentParser\n",
    "parser = ArgumentParser()\n",
    "parser.add_argument('--pippo', default='ciao')\n",
    "args = parser.parse_known_args()[0]\n",
    "\n",
    "print(args)\n",
    "log = vars(args)\n",
    "print('log -> ' + str(log))\n",
    "log['pluto'] = 'no'\n",
    "print(args)\n"
   ],
   "metadata": {
    "collapsed": false,
    "pycharm": {
     "name": "#%%\n"
    }
   }
  }
 ],
 "metadata": {
  "kernelspec": {
   "display_name": "Python 3 (ipykernel)",
   "language": "python",
   "name": "python3"
  },
  "language_info": {
   "codemirror_mode": {
    "name": "ipython",
    "version": 3
   },
   "file_extension": ".py",
   "mimetype": "text/x-python",
   "name": "python",
   "nbconvert_exporter": "python",
   "pygments_lexer": "ipython3",
   "version": "3.9.7"
  }
 },
 "nbformat": 4,
 "nbformat_minor": 1
}