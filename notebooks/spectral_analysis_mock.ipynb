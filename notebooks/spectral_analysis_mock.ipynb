{
 "cells": [
  {
   "cell_type": "code",
   "execution_count": null,
   "metadata": {},
   "outputs": [],
   "source": [
    "import torch\n",
    "import numpy as np\n",
    "import matplotlib.pyplot as plt\n",
    "import pandas as pd"
   ]
  },
  {
   "cell_type": "code",
   "execution_count": null,
   "metadata": {},
   "outputs": [],
   "source": [
    "def find_eig(laplacian):\n",
    "    eigenvalues, eigenvectors = np.linalg.eig(laplacian)\n",
    "    sorted_indices = np.argsort(eigenvalues)\n",
    "    eigenvalues, eigenvectors = eigenvalues[sorted_indices], eigenvectors[:, sorted_indices]\n",
    "#     print(eigenvalues,'\\n'*2 ,eigenvectors)\n",
    "    return eigenvalues, eigenvectors"
   ]
  },
  {
   "cell_type": "code",
   "execution_count": null,
   "metadata": {},
   "outputs": [],
   "source": [
    "def find_eig_torch(laplacian: torch.Tensor):\n",
    "    eigenvalues, eigenvectors = torch.linalg.eig(laplacian)\n",
    "    eigenvalues = eigenvalues.to(float)\n",
    "    eigenvectors = eigenvectors.to(float)\n",
    "    sorted_indices = torch.argsort(eigenvalues)\n",
    "    eigenvalues, eigenvectors = eigenvalues[sorted_indices], eigenvectors[:, sorted_indices]\n",
    "#     print(eigenvalues,'\\n'*2 ,eigenvectors)\n",
    "    return eigenvalues, eigenvectors"
   ]
  },
  {
   "cell_type": "code",
   "execution_count": null,
   "metadata": {},
   "outputs": [],
   "source": [
    "def print_eig(eigenvalues, eigenvectors, n_comp = 5):\n",
    "    eigen_sum = eigenvalues.sum()\n",
    "    eigenvalues = eigenvalues[:n_comp]\n",
    "    figsize = (len(eigenvalues)*3, 14)\n",
    "    \n",
    "    fig, ax = plt.subplots(len(eigenvalues), 2, figsize=figsize, sharex=True)\n",
    "    for n in range(len(eigenvalues)):\n",
    "        ax[n, 0].plot(eigenvectors[:,n], '*')\n",
    "        ax[n, 0].set_title(f'{n}. eigenvalue = {eigenvalues[n]}')\n",
    "    \n",
    "    ax[0, 1].plot(eigenvalues, '*')\n",
    "    ax[0, 1].set_title('Eigenvalues')\n",
    "    plt.suptitle(f'Dirichlet energy: {eigen_sum}')"
   ]
  },
  {
   "cell_type": "code",
   "execution_count": null,
   "metadata": {},
   "outputs": [],
   "source": [
    "def normalize_A_torch(a_m, d_m):\n",
    "    return torch.sqrt(torch.linalg.inv(d_m))@a_m@torch.sqrt(torch.linalg.inv(d_m))"
   ]
  },
  {
   "cell_type": "code",
   "execution_count": null,
   "metadata": {},
   "outputs": [],
   "source": [
    "def normalize_A(a_m, d_m):\n",
    "    return np.sqrt(np.linalg.inv(d_m))@a_m@np.sqrt(np.linalg.inv(d_m))"
   ]
  },
  {
   "cell_type": "markdown",
   "metadata": {},
   "source": [
    "#1\n",
    "\n",
    "0, 1, 2, 3, 4\n",
    "\n",
    "0 -> 1 -> 2\n",
    "\n",
    "\n",
    "1 -> 3\n",
    "\n",
    "3 -> 4"
   ]
  },
  {
   "cell_type": "markdown",
   "metadata": {},
   "source": [
    "# Grafo reale"
   ]
  },
  {
   "cell_type": "code",
   "execution_count": null,
   "metadata": {},
   "outputs": [],
   "source": [
    "## caso intermedio\n",
    "# A = np.array([\n",
    "#     [0, 1, 1, 0, 0], \n",
    "#     [1, 0, 1, 1, 0],\n",
    "#     [1, 1, 0, 0, 0],\n",
    "#     [0, 1, 0, 0, 1],\n",
    "#     [0, 0, 0, 1, 0]\n",
    "# ]).astype(float)\n",
    "\n",
    "# caso con due grafi disconnessi\n",
    "A = np.array([\n",
    "    [0, 1, 1, 0, 0], \n",
    "    [1, 0, 1, 0, 0],\n",
    "    [1, 1, 0, 0, 0],\n",
    "    [0, 0, 0, 0, 1],\n",
    "    [0, 0, 0, 1, 0]\n",
    "]).astype(float)\n",
    "\n",
    "# tutto connesso\n",
    "# A = np.array([\n",
    "#     [0, 1, 1, 1, 1], \n",
    "#     [1, 0, 1, 1, 1],\n",
    "#     [1, 1, 0, 1, 1],\n",
    "#     [1, 1, 1, 0, 1],\n",
    "#     [1, 1, 1, 1, 0]\n",
    "# ]).astype(float)\n",
    "\n",
    "# # tutto sconnesso\n",
    "# A = np.ones((100, 32))\n",
    "\n",
    "# A += np.eye(A.shape[0])"
   ]
  },
  {
   "cell_type": "code",
   "execution_count": null,
   "metadata": {},
   "outputs": [],
   "source": [
    "D = np.diag(A.sum(1))\n",
    "L_norm = np.eye(A.shape[0])-normalize_A(A, D)\n",
    "L = D-A"
   ]
  },
  {
   "cell_type": "code",
   "execution_count": null,
   "metadata": {},
   "outputs": [],
   "source": [
    "L_norm = np.eye(A.shape[0])-normalize_A(A, D)"
   ]
  },
  {
   "cell_type": "code",
   "execution_count": null,
   "metadata": {},
   "outputs": [],
   "source": [
    "L = D-A\n",
    "L"
   ]
  },
  {
   "cell_type": "code",
   "execution_count": null,
   "metadata": {},
   "outputs": [],
   "source": [
    "# eigenvalues, eigenvectors = find_eig(L)\n",
    "\n",
    "# print_eig(eigenvalues, eigenvectors)\n",
    "eigenvalues, eigenvectors = find_eig(L)\n",
    "\n",
    "print_eig(eigenvalues, eigenvectors)\n"
   ]
  },
  {
   "cell_type": "markdown",
   "metadata": {},
   "source": [
    "L'energia di dirichlet si azzera quando tutti i punti sono disconnessi tra loro"
   ]
  },
  {
   "cell_type": "markdown",
   "metadata": {},
   "source": [
    "# Grafo da dati"
   ]
  },
  {
   "cell_type": "code",
   "execution_count": null,
   "metadata": {},
   "outputs": [],
   "source": [
    "torch.cuda.empty_cache()"
   ]
  },
  {
   "cell_type": "code",
   "execution_count": null,
   "metadata": {},
   "outputs": [],
   "source": [
    "# temperature\n",
    "sigma=1.\n",
    "\n",
    "data = torch.Tensor([\n",
    "    [1, 2, 1, 2],\n",
    "    [1, 1, 1, 2],\n",
    "    [3, 3, 3, 2],\n",
    "    [18, 4, 4, 15],\n",
    "    [19, 10, 10, 14],\n",
    "]).to('cuda')\n",
    "\n",
    "# data = torch.Tensor([\n",
    "#     [1, 2, 1, 2],\n",
    "#     [1, 1, 1, 2],\n",
    "#     [1, 1, 1, 1],\n",
    "#     [2, 1.2, 1, 2],\n",
    "#     [1, 1.2, 2, 1.2],\n",
    "# ]).to('cuda')\n",
    "\n",
    "# data = np.array([\n",
    "#     [5, 5, 5, 5],\n",
    "#     [10, 10, 10, 10],\n",
    "#     [1, 1, 1, 1],\n",
    "#     [40, 40, 40, 40],\n",
    "#     [500, 500, 500, 500],\n",
    "# ])\n",
    "# data = np.random.rand(3000,32)\n",
    "data = torch.rand((4000, 32)).to('cuda')"
   ]
  },
  {
   "cell_type": "code",
   "execution_count": null,
   "metadata": {},
   "outputs": [],
   "source": [
    "def calc_D_L_torch(data: torch.Tensor):\n",
    "    dist_matrix = ((data[None, ...] - data.unsqueeze(1)) ** 2).sum(-1)\n",
    "    # compute affinity matrix\n",
    "    A = torch.exp(-dist_matrix / (sigma ** 2))\n",
    "\n",
    "    # compute degree matrix\n",
    "    D = torch.diag(A.sum(1))\n",
    "    # compute laplacian\n",
    "    L = D - A\n",
    "    return A, D, L"
   ]
  },
  {
   "cell_type": "code",
   "execution_count": null,
   "metadata": {},
   "outputs": [],
   "source": [
    "%%time\n",
    "\n",
    "A, D, L = calc_D_L_torch(data)\n",
    "L_norm = torch.eye(A.shape[0]).to('cuda')-normalize_A_torch(A, D)\n",
    "\n",
    "eigenvalues, eigenvectors = find_eig_torch(L)"
   ]
  },
  {
   "cell_type": "code",
   "execution_count": null,
   "metadata": {},
   "outputs": [],
   "source": [
    "print_eig(eigenvalues.cpu().numpy(), eigenvectors.cpu().numpy())"
   ]
  },
  {
   "cell_type": "markdown",
   "metadata": {},
   "source": [
    "- energia del laplaciano normalizzato va da 0 al numero di sample utilizzati per la costruzione del grafo - 1\n",
    "- energia del laplaciano va da 0 a n_sample*(n_sample-1)"
   ]
  },
  {
   "cell_type": "code",
   "execution_count": null,
   "metadata": {},
   "outputs": [],
   "source": [
    "eigenvalues.numpy()"
   ]
  }
 ],
 "metadata": {
  "kernelspec": {
   "display_name": "Python 3",
   "language": "python",
   "name": "python3"
  },
  "language_info": {
   "codemirror_mode": {
    "name": "ipython",
    "version": 3
   },
   "file_extension": ".py",
   "mimetype": "text/x-python",
   "name": "python",
   "nbconvert_exporter": "python",
   "pygments_lexer": "ipython3",
   "version": "3.8.10"
  }
 },
 "nbformat": 4,
 "nbformat_minor": 1
}