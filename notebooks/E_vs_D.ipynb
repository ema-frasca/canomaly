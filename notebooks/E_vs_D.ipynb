{
 "cells": [
  {
   "cell_type": "code",
   "execution_count": null,
   "id": "2fdea0ef",
   "metadata": {},
   "outputs": [],
   "source": [
    "import torch\n",
    "import sys\n",
    "sys.path.append('../datasets/')\n",
    "sys.path.append('../models/')\n",
    "from models.rec_vae import VAE_Module\n",
    "from datasets.rec_fmnist import RecFMNIST\n",
    "from argparse import ArgumentParser, Namespace\n",
    "import os\n",
    "from torch.utils.data import DataLoader\n",
    "from torch.functional import F\n",
    "import matplotlib.pyplot as plt\n",
    "os.chdir('/mnt/data/Dottorato/canomaly/.')"
   ]
  },
  {
   "cell_type": "code",
   "execution_count": null,
   "id": "d17c5669",
   "metadata": {},
   "outputs": [],
   "source": [
    "reconstruction_loss = lambda rec, x:  F.mse_loss(rec, x, reduction='none').mean(dim=[i for i in range(len(rec.shape))][1:]) "
   ]
  },
  {
   "cell_type": "code",
   "execution_count": null,
   "id": "4c5c4ce8",
   "metadata": {},
   "outputs": [],
   "source": [
    "args = Namespace(approach='continual',\n",
    "                add_rotation=False,\n",
    "                batch_size=1000)"
   ]
  },
  {
   "cell_type": "code",
   "execution_count": null,
   "id": "e32c0012",
   "metadata": {},
   "outputs": [],
   "source": [
    "# %tb\n",
    "# parser = ArgumentParser()\n",
    "# args = parser.parse_known_args()\n",
    "dataset = RecFMNIST(args)\n",
    "test_dataset = dataset.test_loader()\n"
   ]
  },
  {
   "cell_type": "code",
   "execution_count": null,
   "id": "a73b0a9f",
   "metadata": {},
   "outputs": [],
   "source": [
    "models_list = os.listdir(dataset.config.checkpoints_dir)"
   ]
  },
  {
   "cell_type": "code",
   "execution_count": null,
   "id": "529bd367",
   "metadata": {},
   "outputs": [],
   "source": [
    "model0 = torch.load(os.path.join(dataset.config.checkpoints_dir, [x for x in models_list if '0' in x][0]))\n",
    "model3 = torch.load(os.path.join(dataset.config.checkpoints_dir, [x for x in models_list if '3' in x][0]))\n",
    "model0.eval()\n",
    "model3.eval()"
   ]
  },
  {
   "cell_type": "code",
   "execution_count": null,
   "id": "fa3e7030",
   "metadata": {},
   "outputs": [],
   "source": [
    "X,Y = next(iter(test_dataset))\n",
    "X,Y = X.to('cuda'),Y.to('cuda')"
   ]
  },
  {
   "cell_type": "code",
   "execution_count": null,
   "id": "f5a306ff",
   "metadata": {},
   "outputs": [],
   "source": [
    "model3.forward_sample = True\n",
    "recs, latent_mu, latent_logvar, z  = model3(X)\n",
    "recs_mist = model0.D(z)"
   ]
  },
  {
   "cell_type": "code",
   "execution_count": null,
   "id": "ae64088f",
   "metadata": {},
   "outputs": [],
   "source": [
    "real_loss = reconstruction_loss(recs, X)\n",
    "mist_loss = reconstruction_loss(recs_mist, X)\n",
    "\n",
    "knowledge = dataset.MACRO_CLASSES\n",
    "\n",
    "targets_knowledge = Y.clone()\n",
    "for num, kn in enumerate(knowledge):\n",
    "    targets_knowledge[torch.isin(Y, torch.Tensor(kn).to('cuda'))] = num    "
   ]
  },
  {
   "cell_type": "code",
   "execution_count": null,
   "id": "ef71da80",
   "metadata": {},
   "outputs": [],
   "source": [
    "print(real_loss[targets_knowledge==0].mean())\n",
    "print(mist_loss[targets_knowledge==0].mean())"
   ]
  },
  {
   "cell_type": "code",
   "execution_count": null,
   "id": "1dc7fa40",
   "metadata": {},
   "outputs": [],
   "source": []
  },
  {
   "cell_type": "code",
   "execution_count": null,
   "id": "f09a1577",
   "metadata": {},
   "outputs": [],
   "source": []
  },
  {
   "cell_type": "code",
   "execution_count": null,
   "id": "6168fdd4",
   "metadata": {},
   "outputs": [],
   "source": [
    "recs, latent_mu, latent_logvar, z  = model0(X)\n",
    "recs_mist = model3.D(latent_mu)\n",
    "\n",
    "real_loss = reconstruction_loss(recs, X)\n",
    "mist_loss = reconstruction_loss(recs_mist, X)\n",
    "\n",
    "knowledge = dataset.MACRO_CLASSES\n",
    "\n",
    "targets_knowledge = Y.clone()\n",
    "for num, kn in enumerate(knowledge):\n",
    "    targets_knowledge[torch.isin(Y, torch.Tensor(kn).to('cuda'))] = num    "
   ]
  },
  {
   "cell_type": "code",
   "execution_count": null,
   "id": "b2b9dc28",
   "metadata": {},
   "outputs": [],
   "source": [
    "print(real_loss[targets_knowledge==0].mean())\n",
    "print(mist_loss[targets_knowledge==0].mean())"
   ]
  },
  {
   "cell_type": "code",
   "execution_count": null,
   "id": "ec7afee0",
   "metadata": {
    "scrolled": false
   },
   "outputs": [],
   "source": [
    "index_zeros = targets_knowledge == 0\n",
    "index_zeros = index_zeros.nonzero(as_tuple=True)[0]\n",
    "for i in index_zeros[:50]:\n",
    "    rec_m = recs_mist[i]\n",
    "    rec = recs[i]\n",
    "    real = X[i]\n",
    "    fig,ax = plt.subplots(1,3)\n",
    "    ax[0].imshow(rec_m.permute(1,2,0).detach().cpu())\n",
    "    ax[1].imshow(rec.permute(1,2,0).detach().cpu())\n",
    "    ax[2].imshow(real.permute(1,2,0).detach().cpu())\n",
    "    plt.show()"
   ]
  }
 ],
 "metadata": {
  "kernelspec": {
   "display_name": "canomaly",
   "language": "python",
   "name": "canomaly"
  },
  "language_info": {
   "codemirror_mode": {
    "name": "ipython",
    "version": 3
   },
   "file_extension": ".py",
   "mimetype": "text/x-python",
   "name": "python",
   "nbconvert_exporter": "python",
   "pygments_lexer": "ipython3",
   "version": "3.8.10"
  }
 },
 "nbformat": 4,
 "nbformat_minor": 5
}
